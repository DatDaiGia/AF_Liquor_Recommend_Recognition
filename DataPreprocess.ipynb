{
 "cells": [
  {
   "cell_type": "code",
   "execution_count": 3,
   "metadata": {},
   "outputs": [],
   "source": [
    "import ginza\n",
    "import numpy as np\n",
    "import pandas as pd\n",
    "import matplotlib as mpl\n",
    "import nltk, warnings\n",
    "import matplotlib.pyplot as plt\n",
    "\n",
    "warnings.filterwarnings('ignore')\n",
    "from wordcloud import WordCloud, STOPWORDS\n",
    "from fuzzywuzzy import fuzz\n",
    "import MeCab\n",
    "import seaborn as sns\n",
    "\n",
    "# from sklearn.linear_model.\n",
    "\n",
    "%matplotlib inline\n",
    "from ginza import STOP_WORDS\n",
    "from janome.tokenizer import Tokenizer\n",
    "TK = Tokenizer()"
   ]
  },
  {
   "cell_type": "markdown",
   "metadata": {},
   "source": [
    "## Constant variable"
   ]
  },
  {
   "cell_type": "code",
   "execution_count": 4,
   "metadata": {},
   "outputs": [],
   "source": [
    "data_path = 'Whiskey_sample_data.csv'"
   ]
  },
  {
   "cell_type": "markdown",
   "metadata": {},
   "source": [
    "## Data Exploration"
   ]
  },
  {
   "cell_type": "code",
   "execution_count": 5,
   "metadata": {},
   "outputs": [],
   "source": [
    "def load_data(data_path):\n",
    "    return pd.read_csv(data_path)\n",
    "\n",
    "# def pipeline_"
   ]
  },
  {
   "cell_type": "code",
   "execution_count": 6,
   "metadata": {},
   "outputs": [],
   "source": [
    "df_initial = load_data(data_path)"
   ]
  },
  {
   "cell_type": "code",
   "execution_count": 7,
   "metadata": {
    "scrolled": true
   },
   "outputs": [
    {
     "data": {
      "text/html": [
       "<div>\n",
       "<style scoped>\n",
       "    .dataframe tbody tr th:only-of-type {\n",
       "        vertical-align: middle;\n",
       "    }\n",
       "\n",
       "    .dataframe tbody tr th {\n",
       "        vertical-align: top;\n",
       "    }\n",
       "\n",
       "    .dataframe thead th {\n",
       "        text-align: right;\n",
       "    }\n",
       "</style>\n",
       "<table border=\"1\" class=\"dataframe\">\n",
       "  <thead>\n",
       "    <tr style=\"text-align: right;\">\n",
       "      <th></th>\n",
       "      <th>RowID</th>\n",
       "      <th>Name</th>\n",
       "      <th>Comment</th>\n",
       "      <th>Note</th>\n",
       "      <th>Body</th>\n",
       "      <th>Smoky</th>\n",
       "      <th>Woody</th>\n",
       "      <th>Floral</th>\n",
       "      <th>Fruity</th>\n",
       "      <th>Winey</th>\n",
       "    </tr>\n",
       "  </thead>\n",
       "  <tbody>\n",
       "    <tr>\n",
       "      <th>0</th>\n",
       "      <td>1</td>\n",
       "      <td>Aberfeldy</td>\n",
       "      <td>1898年にジョン・デュワーの息子たちによって設立されたアバフェルディ蒸溜所。現在も木製ウォ...</td>\n",
       "      <td>（テイスティングノート）\\n香り：オレンジトフィーやナッツ\\n味わい：芳醇なハチミツのような...</td>\n",
       "      <td>2</td>\n",
       "      <td>2</td>\n",
       "      <td>4</td>\n",
       "      <td>2</td>\n",
       "      <td>2</td>\n",
       "      <td>2</td>\n",
       "    </tr>\n",
       "    <tr>\n",
       "      <th>1</th>\n",
       "      <td>2</td>\n",
       "      <td>Aberlour</td>\n",
       "      <td>NaN</td>\n",
       "      <td>厳選したシェリー樽とバーボン樽の2種類の樽を使って熟成する“ダブルカスクマチュレーション”が...</td>\n",
       "      <td>3</td>\n",
       "      <td>1</td>\n",
       "      <td>5</td>\n",
       "      <td>2</td>\n",
       "      <td>3</td>\n",
       "      <td>2</td>\n",
       "    </tr>\n",
       "    <tr>\n",
       "      <th>2</th>\n",
       "      <td>3</td>\n",
       "      <td>AnCnoc</td>\n",
       "      <td>NaN</td>\n",
       "      <td>NaN</td>\n",
       "      <td>1</td>\n",
       "      <td>2</td>\n",
       "      <td>4</td>\n",
       "      <td>2</td>\n",
       "      <td>3</td>\n",
       "      <td>0</td>\n",
       "    </tr>\n",
       "    <tr>\n",
       "      <th>3</th>\n",
       "      <td>4</td>\n",
       "      <td>Ardbeg</td>\n",
       "      <td>NaN</td>\n",
       "      <td>NaN</td>\n",
       "      <td>4</td>\n",
       "      <td>4</td>\n",
       "      <td>3</td>\n",
       "      <td>0</td>\n",
       "      <td>1</td>\n",
       "      <td>0</td>\n",
       "    </tr>\n",
       "    <tr>\n",
       "      <th>4</th>\n",
       "      <td>5</td>\n",
       "      <td>Ardmore</td>\n",
       "      <td>NaN</td>\n",
       "      <td>NaN</td>\n",
       "      <td>2</td>\n",
       "      <td>2</td>\n",
       "      <td>5</td>\n",
       "      <td>1</td>\n",
       "      <td>1</td>\n",
       "      <td>1</td>\n",
       "    </tr>\n",
       "    <tr>\n",
       "      <th>...</th>\n",
       "      <td>...</td>\n",
       "      <td>...</td>\n",
       "      <td>...</td>\n",
       "      <td>...</td>\n",
       "      <td>...</td>\n",
       "      <td>...</td>\n",
       "      <td>...</td>\n",
       "      <td>...</td>\n",
       "      <td>...</td>\n",
       "      <td>...</td>\n",
       "    </tr>\n",
       "    <tr>\n",
       "      <th>81</th>\n",
       "      <td>82</td>\n",
       "      <td>Tobermory</td>\n",
       "      <td>NaN</td>\n",
       "      <td>NaN</td>\n",
       "      <td>1</td>\n",
       "      <td>1</td>\n",
       "      <td>3</td>\n",
       "      <td>2</td>\n",
       "      <td>2</td>\n",
       "      <td>0</td>\n",
       "    </tr>\n",
       "    <tr>\n",
       "      <th>82</th>\n",
       "      <td>83</td>\n",
       "      <td>Tomatin</td>\n",
       "      <td>NaN</td>\n",
       "      <td>NaN</td>\n",
       "      <td>2</td>\n",
       "      <td>2</td>\n",
       "      <td>3</td>\n",
       "      <td>1</td>\n",
       "      <td>0</td>\n",
       "      <td>1</td>\n",
       "    </tr>\n",
       "    <tr>\n",
       "      <th>83</th>\n",
       "      <td>84</td>\n",
       "      <td>Tomintoul</td>\n",
       "      <td>NaN</td>\n",
       "      <td>NaN</td>\n",
       "      <td>0</td>\n",
       "      <td>1</td>\n",
       "      <td>3</td>\n",
       "      <td>2</td>\n",
       "      <td>1</td>\n",
       "      <td>1</td>\n",
       "    </tr>\n",
       "    <tr>\n",
       "      <th>84</th>\n",
       "      <td>85</td>\n",
       "      <td>Tormore</td>\n",
       "      <td>NaN</td>\n",
       "      <td>NaN</td>\n",
       "      <td>2</td>\n",
       "      <td>1</td>\n",
       "      <td>3</td>\n",
       "      <td>0</td>\n",
       "      <td>0</td>\n",
       "      <td>1</td>\n",
       "    </tr>\n",
       "    <tr>\n",
       "      <th>85</th>\n",
       "      <td>86</td>\n",
       "      <td>Tullibardine</td>\n",
       "      <td>NaN</td>\n",
       "      <td>NaN</td>\n",
       "      <td>2</td>\n",
       "      <td>0</td>\n",
       "      <td>3</td>\n",
       "      <td>1</td>\n",
       "      <td>2</td>\n",
       "      <td>1</td>\n",
       "    </tr>\n",
       "  </tbody>\n",
       "</table>\n",
       "<p>86 rows × 10 columns</p>\n",
       "</div>"
      ],
      "text/plain": [
       "    RowID          Name                                            Comment  \\\n",
       "0       1     Aberfeldy  1898年にジョン・デュワーの息子たちによって設立されたアバフェルディ蒸溜所。現在も木製ウォ...   \n",
       "1       2      Aberlour                                                NaN   \n",
       "2       3        AnCnoc                                                NaN   \n",
       "3       4        Ardbeg                                                NaN   \n",
       "4       5       Ardmore                                                NaN   \n",
       "..    ...           ...                                                ...   \n",
       "81     82     Tobermory                                                NaN   \n",
       "82     83       Tomatin                                                NaN   \n",
       "83     84     Tomintoul                                                NaN   \n",
       "84     85       Tormore                                                NaN   \n",
       "85     86  Tullibardine                                                NaN   \n",
       "\n",
       "                                                 Note  Body  Smoky  Woody  \\\n",
       "0   （テイスティングノート）\\n香り：オレンジトフィーやナッツ\\n味わい：芳醇なハチミツのような...     2      2      4   \n",
       "1   厳選したシェリー樽とバーボン樽の2種類の樽を使って熟成する“ダブルカスクマチュレーション”が...     3      1      5   \n",
       "2                                                 NaN     1      2      4   \n",
       "3                                                 NaN     4      4      3   \n",
       "4                                                 NaN     2      2      5   \n",
       "..                                                ...   ...    ...    ...   \n",
       "81                                                NaN     1      1      3   \n",
       "82                                                NaN     2      2      3   \n",
       "83                                                NaN     0      1      3   \n",
       "84                                                NaN     2      1      3   \n",
       "85                                                NaN     2      0      3   \n",
       "\n",
       "    Floral  Fruity  Winey  \n",
       "0        2       2      2  \n",
       "1        2       3      2  \n",
       "2        2       3      0  \n",
       "3        0       1      0  \n",
       "4        1       1      1  \n",
       "..     ...     ...    ...  \n",
       "81       2       2      0  \n",
       "82       1       0      1  \n",
       "83       2       1      1  \n",
       "84       0       0      1  \n",
       "85       1       2      1  \n",
       "\n",
       "[86 rows x 10 columns]"
      ]
     },
     "execution_count": 7,
     "metadata": {},
     "output_type": "execute_result"
    }
   ],
   "source": [
    "df_initial"
   ]
  },
  {
   "cell_type": "code",
   "execution_count": 8,
   "metadata": {},
   "outputs": [],
   "source": [
    "tab_infor = pd.DataFrame(df_initial.dtypes).T.rename(index={0: 'column type'})\n",
    "tab_infor = tab_infor.append(pd.DataFrame(df_initial.isnull().sum(axis=0)).T.rename(index={0: 'null index value'}))\n",
    "tab_infor = tab_infor.append(pd.DataFrame(df_initial.isnull().sum(axis=0)/df_initial.shape[0] * 100).T.rename(index={0: 'null index %'}))"
   ]
  },
  {
   "cell_type": "code",
   "execution_count": 9,
   "metadata": {},
   "outputs": [
    {
     "data": {
      "text/html": [
       "<div>\n",
       "<style scoped>\n",
       "    .dataframe tbody tr th:only-of-type {\n",
       "        vertical-align: middle;\n",
       "    }\n",
       "\n",
       "    .dataframe tbody tr th {\n",
       "        vertical-align: top;\n",
       "    }\n",
       "\n",
       "    .dataframe thead th {\n",
       "        text-align: right;\n",
       "    }\n",
       "</style>\n",
       "<table border=\"1\" class=\"dataframe\">\n",
       "  <thead>\n",
       "    <tr style=\"text-align: right;\">\n",
       "      <th></th>\n",
       "      <th>RowID</th>\n",
       "      <th>Name</th>\n",
       "      <th>Comment</th>\n",
       "      <th>Note</th>\n",
       "      <th>Body</th>\n",
       "      <th>Smoky</th>\n",
       "      <th>Woody</th>\n",
       "      <th>Floral</th>\n",
       "      <th>Fruity</th>\n",
       "      <th>Winey</th>\n",
       "    </tr>\n",
       "  </thead>\n",
       "  <tbody>\n",
       "    <tr>\n",
       "      <th>column type</th>\n",
       "      <td>int64</td>\n",
       "      <td>object</td>\n",
       "      <td>object</td>\n",
       "      <td>object</td>\n",
       "      <td>int64</td>\n",
       "      <td>int64</td>\n",
       "      <td>int64</td>\n",
       "      <td>int64</td>\n",
       "      <td>int64</td>\n",
       "      <td>int64</td>\n",
       "    </tr>\n",
       "    <tr>\n",
       "      <th>null index value</th>\n",
       "      <td>0</td>\n",
       "      <td>0</td>\n",
       "      <td>79</td>\n",
       "      <td>80</td>\n",
       "      <td>0</td>\n",
       "      <td>0</td>\n",
       "      <td>0</td>\n",
       "      <td>0</td>\n",
       "      <td>0</td>\n",
       "      <td>0</td>\n",
       "    </tr>\n",
       "    <tr>\n",
       "      <th>null index %</th>\n",
       "      <td>0</td>\n",
       "      <td>0</td>\n",
       "      <td>91.8605</td>\n",
       "      <td>93.0233</td>\n",
       "      <td>0</td>\n",
       "      <td>0</td>\n",
       "      <td>0</td>\n",
       "      <td>0</td>\n",
       "      <td>0</td>\n",
       "      <td>0</td>\n",
       "    </tr>\n",
       "  </tbody>\n",
       "</table>\n",
       "</div>"
      ],
      "text/plain": [
       "                  RowID    Name  Comment     Note   Body  Smoky  Woody Floral  \\\n",
       "column type       int64  object   object   object  int64  int64  int64  int64   \n",
       "null index value      0       0       79       80      0      0      0      0   \n",
       "null index %          0       0  91.8605  93.0233      0      0      0      0   \n",
       "\n",
       "                 Fruity  Winey  \n",
       "column type       int64  int64  \n",
       "null index value      0      0  \n",
       "null index %          0      0  "
      ]
     },
     "execution_count": 9,
     "metadata": {},
     "output_type": "execute_result"
    }
   ],
   "source": [
    "tab_infor"
   ]
  },
  {
   "cell_type": "code",
   "execution_count": 10,
   "metadata": {},
   "outputs": [],
   "source": [
    "## Comment preprocessing_"
   ]
  },
  {
   "cell_type": "code",
   "execution_count": 11,
   "metadata": {},
   "outputs": [],
   "source": [
    "comments = df_initial.Comment.values.tolist()"
   ]
  },
  {
   "cell_type": "code",
   "execution_count": 12,
   "metadata": {},
   "outputs": [],
   "source": [
    "wakati = MeCab.Tagger(\"-Owakati\")"
   ]
  },
  {
   "cell_type": "code",
   "execution_count": 13,
   "metadata": {},
   "outputs": [],
   "source": [
    "def pipe_keywords_flatten(comment):\n",
    "    if comment is None or isinstance(comment, float): return ''\n",
    "    token = []\n",
    "    for s in TK.tokenize(comment):\n",
    "        token.append(s.base_form)\n",
    "        \n",
    "    return '|'.join(token)    "
   ]
  },
  {
   "cell_type": "code",
   "execution_count": 14,
   "metadata": {},
   "outputs": [],
   "source": [
    "def convert_original_format_to_new_format(df, columns=['Comment', 'Note']):\n",
    "    df_new = df.copy()\n",
    "    \n",
    "    for col in columns:\n",
    "        df_new[col] = df[col].apply(pipe_keywords_flatten)\n",
    "    \n",
    "    return df_new"
   ]
  },
  {
   "cell_type": "code",
   "execution_count": 15,
   "metadata": {},
   "outputs": [
    {
     "data": {
      "text/html": [
       "<div>\n",
       "<style scoped>\n",
       "    .dataframe tbody tr th:only-of-type {\n",
       "        vertical-align: middle;\n",
       "    }\n",
       "\n",
       "    .dataframe tbody tr th {\n",
       "        vertical-align: top;\n",
       "    }\n",
       "\n",
       "    .dataframe thead th {\n",
       "        text-align: right;\n",
       "    }\n",
       "</style>\n",
       "<table border=\"1\" class=\"dataframe\">\n",
       "  <thead>\n",
       "    <tr style=\"text-align: right;\">\n",
       "      <th></th>\n",
       "      <th>RowID</th>\n",
       "      <th>Name</th>\n",
       "      <th>Comment</th>\n",
       "      <th>Note</th>\n",
       "      <th>Body</th>\n",
       "      <th>Smoky</th>\n",
       "      <th>Woody</th>\n",
       "      <th>Floral</th>\n",
       "      <th>Fruity</th>\n",
       "      <th>Winey</th>\n",
       "    </tr>\n",
       "  </thead>\n",
       "  <tbody>\n",
       "    <tr>\n",
       "      <th>0</th>\n",
       "      <td>1</td>\n",
       "      <td>Aberfeldy</td>\n",
       "      <td>1898|年|に|ジョン・デュワー|の|息子|たち|によって|設立|する|れる|た|アバフェ...</td>\n",
       "      <td>（|テイスティングノート|）|\\n|香り|：|オレンジトフィー|や|ナッツ|\\n|味わい|：...</td>\n",
       "      <td>2</td>\n",
       "      <td>2</td>\n",
       "      <td>4</td>\n",
       "      <td>2</td>\n",
       "      <td>2</td>\n",
       "      <td>2</td>\n",
       "    </tr>\n",
       "    <tr>\n",
       "      <th>1</th>\n",
       "      <td>2</td>\n",
       "      <td>Aberlour</td>\n",
       "      <td></td>\n",
       "      <td>厳選|する|た|シェリー|樽|と|バー|ボン|樽|の|2|種類|の|樽|を|使う|て|熟成|...</td>\n",
       "      <td>3</td>\n",
       "      <td>1</td>\n",
       "      <td>5</td>\n",
       "      <td>2</td>\n",
       "      <td>3</td>\n",
       "      <td>2</td>\n",
       "    </tr>\n",
       "    <tr>\n",
       "      <th>2</th>\n",
       "      <td>3</td>\n",
       "      <td>AnCnoc</td>\n",
       "      <td></td>\n",
       "      <td></td>\n",
       "      <td>1</td>\n",
       "      <td>2</td>\n",
       "      <td>4</td>\n",
       "      <td>2</td>\n",
       "      <td>3</td>\n",
       "      <td>0</td>\n",
       "    </tr>\n",
       "    <tr>\n",
       "      <th>3</th>\n",
       "      <td>4</td>\n",
       "      <td>Ardbeg</td>\n",
       "      <td></td>\n",
       "      <td></td>\n",
       "      <td>4</td>\n",
       "      <td>4</td>\n",
       "      <td>3</td>\n",
       "      <td>0</td>\n",
       "      <td>1</td>\n",
       "      <td>0</td>\n",
       "    </tr>\n",
       "    <tr>\n",
       "      <th>4</th>\n",
       "      <td>5</td>\n",
       "      <td>Ardmore</td>\n",
       "      <td></td>\n",
       "      <td></td>\n",
       "      <td>2</td>\n",
       "      <td>2</td>\n",
       "      <td>5</td>\n",
       "      <td>1</td>\n",
       "      <td>1</td>\n",
       "      <td>1</td>\n",
       "    </tr>\n",
       "    <tr>\n",
       "      <th>...</th>\n",
       "      <td>...</td>\n",
       "      <td>...</td>\n",
       "      <td>...</td>\n",
       "      <td>...</td>\n",
       "      <td>...</td>\n",
       "      <td>...</td>\n",
       "      <td>...</td>\n",
       "      <td>...</td>\n",
       "      <td>...</td>\n",
       "      <td>...</td>\n",
       "    </tr>\n",
       "    <tr>\n",
       "      <th>81</th>\n",
       "      <td>82</td>\n",
       "      <td>Tobermory</td>\n",
       "      <td></td>\n",
       "      <td></td>\n",
       "      <td>1</td>\n",
       "      <td>1</td>\n",
       "      <td>3</td>\n",
       "      <td>2</td>\n",
       "      <td>2</td>\n",
       "      <td>0</td>\n",
       "    </tr>\n",
       "    <tr>\n",
       "      <th>82</th>\n",
       "      <td>83</td>\n",
       "      <td>Tomatin</td>\n",
       "      <td></td>\n",
       "      <td></td>\n",
       "      <td>2</td>\n",
       "      <td>2</td>\n",
       "      <td>3</td>\n",
       "      <td>1</td>\n",
       "      <td>0</td>\n",
       "      <td>1</td>\n",
       "    </tr>\n",
       "    <tr>\n",
       "      <th>83</th>\n",
       "      <td>84</td>\n",
       "      <td>Tomintoul</td>\n",
       "      <td></td>\n",
       "      <td></td>\n",
       "      <td>0</td>\n",
       "      <td>1</td>\n",
       "      <td>3</td>\n",
       "      <td>2</td>\n",
       "      <td>1</td>\n",
       "      <td>1</td>\n",
       "    </tr>\n",
       "    <tr>\n",
       "      <th>84</th>\n",
       "      <td>85</td>\n",
       "      <td>Tormore</td>\n",
       "      <td></td>\n",
       "      <td></td>\n",
       "      <td>2</td>\n",
       "      <td>1</td>\n",
       "      <td>3</td>\n",
       "      <td>0</td>\n",
       "      <td>0</td>\n",
       "      <td>1</td>\n",
       "    </tr>\n",
       "    <tr>\n",
       "      <th>85</th>\n",
       "      <td>86</td>\n",
       "      <td>Tullibardine</td>\n",
       "      <td></td>\n",
       "      <td></td>\n",
       "      <td>2</td>\n",
       "      <td>0</td>\n",
       "      <td>3</td>\n",
       "      <td>1</td>\n",
       "      <td>2</td>\n",
       "      <td>1</td>\n",
       "    </tr>\n",
       "  </tbody>\n",
       "</table>\n",
       "<p>86 rows × 10 columns</p>\n",
       "</div>"
      ],
      "text/plain": [
       "    RowID          Name                                            Comment  \\\n",
       "0       1     Aberfeldy  1898|年|に|ジョン・デュワー|の|息子|たち|によって|設立|する|れる|た|アバフェ...   \n",
       "1       2      Aberlour                                                      \n",
       "2       3        AnCnoc                                                      \n",
       "3       4        Ardbeg                                                      \n",
       "4       5       Ardmore                                                      \n",
       "..    ...           ...                                                ...   \n",
       "81     82     Tobermory                                                      \n",
       "82     83       Tomatin                                                      \n",
       "83     84     Tomintoul                                                      \n",
       "84     85       Tormore                                                      \n",
       "85     86  Tullibardine                                                      \n",
       "\n",
       "                                                 Note  Body  Smoky  Woody  \\\n",
       "0   （|テイスティングノート|）|\\n|香り|：|オレンジトフィー|や|ナッツ|\\n|味わい|：...     2      2      4   \n",
       "1   厳選|する|た|シェリー|樽|と|バー|ボン|樽|の|2|種類|の|樽|を|使う|て|熟成|...     3      1      5   \n",
       "2                                                         1      2      4   \n",
       "3                                                         4      4      3   \n",
       "4                                                         2      2      5   \n",
       "..                                                ...   ...    ...    ...   \n",
       "81                                                        1      1      3   \n",
       "82                                                        2      2      3   \n",
       "83                                                        0      1      3   \n",
       "84                                                        2      1      3   \n",
       "85                                                        2      0      3   \n",
       "\n",
       "    Floral  Fruity  Winey  \n",
       "0        2       2      2  \n",
       "1        2       3      2  \n",
       "2        2       3      0  \n",
       "3        0       1      0  \n",
       "4        1       1      1  \n",
       "..     ...     ...    ...  \n",
       "81       2       2      0  \n",
       "82       1       0      1  \n",
       "83       2       1      1  \n",
       "84       0       0      1  \n",
       "85       1       2      1  \n",
       "\n",
       "[86 rows x 10 columns]"
      ]
     },
     "execution_count": 15,
     "metadata": {},
     "output_type": "execute_result"
    }
   ],
   "source": [
    "df_converted = convert_original_format_to_new_format(df_initial)\n",
    "df_converted"
   ]
  },
  {
   "cell_type": "code",
   "execution_count": 16,
   "metadata": {},
   "outputs": [],
   "source": [
    "## Count keywords for comments and note"
   ]
  },
  {
   "cell_type": "code",
   "execution_count": 17,
   "metadata": {},
   "outputs": [],
   "source": [
    "comment_keywords = set()\n",
    "note_keywords = set()"
   ]
  },
  {
   "cell_type": "code",
   "execution_count": 18,
   "metadata": {},
   "outputs": [],
   "source": [
    "columns = ['Comment', 'Note']\n",
    "\n",
    "for idx, col in enumerate(columns):\n",
    "    data = df_converted[col]\n",
    "    \n",
    "    for s in data.str.split('|'):\n",
    "        if s is None or len(s) == 0: continue\n",
    "        if idx == 0:\n",
    "            comment_keywords = comment_keywords.union(s)\n",
    "        else:\n",
    "            note_keywords = note_keywords.union(s)"
   ]
  },
  {
   "cell_type": "code",
   "execution_count": 19,
   "metadata": {},
   "outputs": [],
   "source": [
    "comment_keywords = [s for s in comment_keywords if len(s) != 0]"
   ]
  },
  {
   "cell_type": "code",
   "execution_count": 20,
   "metadata": {},
   "outputs": [],
   "source": [
    "note_keywords = [s for s in note_keywords if len(s) != 0]"
   ]
  },
  {
   "cell_type": "code",
   "execution_count": 21,
   "metadata": {},
   "outputs": [],
   "source": [
    "# Remove stopwords"
   ]
  },
  {
   "cell_type": "code",
   "execution_count": 22,
   "metadata": {},
   "outputs": [],
   "source": [
    "comment_keywords_cleaned = [s for s in comment_keywords if s not in STOP_WORDS]\n",
    "note_keywords_cleaned = [s for s in note_keywords if s not in STOP_WORDS]"
   ]
  },
  {
   "cell_type": "code",
   "execution_count": 23,
   "metadata": {},
   "outputs": [
    {
     "data": {
      "text/plain": [
       "207"
      ]
     },
     "execution_count": 23,
     "metadata": {},
     "output_type": "execute_result"
    }
   ],
   "source": [
    "len(comment_keywords_cleaned)"
   ]
  },
  {
   "cell_type": "code",
   "execution_count": 24,
   "metadata": {},
   "outputs": [],
   "source": [
    "## Count keywords"
   ]
  },
  {
   "cell_type": "code",
   "execution_count": 25,
   "metadata": {},
   "outputs": [],
   "source": [
    "key_counts = dict()\n",
    "total_keywords = np.concatenate((comment_keywords_cleaned, note_keywords_cleaned))\n",
    "\n",
    "for tk in total_keywords:\n",
    "    for s in tk:\n",
    "        key_counts[s] = key_counts[s] + 1 if s in key_counts else 1           "
   ]
  },
  {
   "cell_type": "code",
   "execution_count": 26,
   "metadata": {},
   "outputs": [],
   "source": [
    "key_occurences = []\n",
    "for (k, v) in key_counts.items():\n",
    "    key_occurences.append([k, v])\n",
    "    \n",
    "key_occurences.sort(key = lambda x: x[1], reverse=True)"
   ]
  },
  {
   "cell_type": "code",
   "execution_count": 27,
   "metadata": {},
   "outputs": [
    {
     "data": {
      "text/plain": [
       "387"
      ]
     },
     "execution_count": 27,
     "metadata": {},
     "output_type": "execute_result"
    }
   ],
   "source": [
    "len(key_counts)"
   ]
  },
  {
   "cell_type": "markdown",
   "metadata": {},
   "source": [
    "## Plot keywords"
   ]
  },
  {
   "cell_type": "code",
   "execution_count": 28,
   "metadata": {},
   "outputs": [],
   "source": [
    "def random_color_func(word=None, position=None, font_size=None,\n",
    "                      orientation=None, font_path=None, random_state=None):\n",
    "    l = int(360.0 * tone / 255.0)\n",
    "    h = int(100.0 * 255.0 / 255.0)\n",
    "    s = int(100.0 * float(random_state.randint(70, 120)) / 255.0)\n",
    "    \n",
    "    return \"hsl({}, {}%, {}%)\".format(h, s, l)"
   ]
  },
  {
   "cell_type": "code",
   "execution_count": 29,
   "metadata": {
    "scrolled": false
   },
   "outputs": [
    {
     "data": {
      "image/png": "[encoded data removed]",
      "text/plain": [
       "<Figure size 1296x936 with 2 Axes>"
      ]
     },
     "metadata": {
      "needs_background": "light"
     },
     "output_type": "display_data"
    }
   ],
   "source": [
    "fig = plt.figure(1, figsize=(18, 13))\n",
    "ax1 = fig.add_subplot(2,1,1)\n",
    "\n",
    "words = dict()\n",
    "trunc_occurences = key_occurences[:50]\n",
    "for s in trunc_occurences:\n",
    "    words[s[0]] = s[1]\n",
    "\n",
    "tone = 55.0\n",
    "wordcloud = WordCloud(width=1000, height=300, background_color='black',\n",
    "                      max_words=10000, relative_scaling=1, color_func=random_color_func,\n",
    "                      normalize_plurals=False)\n",
    "wordcloud.generate_from_frequencies(words)\n",
    "ax1.imshow(wordcloud, interpolation='bilinear')\n",
    "ax1.axis('off')\n",
    "\n",
    "ax2 = fig.add_subplot(2,1,2)\n",
    "y_axis = [i[1] for i in trunc_occurences]\n",
    "x_axis = [k for k,i in enumerate(trunc_occurences)]\n",
    "x_label = [i[0] for i in trunc_occurences]\n",
    "plt.xticks(rotation=85, fontsize = 15)\n",
    "plt.yticks(fontsize = 15)\n",
    "plt.xticks(x_axis, x_label)\n",
    "plt.ylabel(\"Nb. of occurences\", fontsize = 18, labelpad = 10)\n",
    "ax2.bar(x_axis, y_axis, align = 'center', color='g')\n",
    "#_______________________\n",
    "plt.title(\"Keywords popularity\", bbox={'facecolor':'k', 'pad':5}, color='w', fontsize = 25)\n",
    "plt.show()"
   ]
  },
  {
   "cell_type": "markdown",
   "metadata": {},
   "source": [
    "## Data Cleaning"
   ]
  },
  {
   "cell_type": "code",
   "execution_count": 30,
   "metadata": {},
   "outputs": [
    {
     "data": {
      "text/html": [
       "<div>\n",
       "<style scoped>\n",
       "    .dataframe tbody tr th:only-of-type {\n",
       "        vertical-align: middle;\n",
       "    }\n",
       "\n",
       "    .dataframe tbody tr th {\n",
       "        vertical-align: top;\n",
       "    }\n",
       "\n",
       "    .dataframe thead th {\n",
       "        text-align: right;\n",
       "    }\n",
       "</style>\n",
       "<table border=\"1\" class=\"dataframe\">\n",
       "  <thead>\n",
       "    <tr style=\"text-align: right;\">\n",
       "      <th></th>\n",
       "      <th>RowID</th>\n",
       "      <th>Name</th>\n",
       "      <th>Comment</th>\n",
       "      <th>Note</th>\n",
       "      <th>Body</th>\n",
       "      <th>Smoky</th>\n",
       "      <th>Woody</th>\n",
       "      <th>Floral</th>\n",
       "      <th>Fruity</th>\n",
       "      <th>Winey</th>\n",
       "    </tr>\n",
       "  </thead>\n",
       "  <tbody>\n",
       "    <tr>\n",
       "      <th>0</th>\n",
       "      <td>1</td>\n",
       "      <td>Aberfeldy</td>\n",
       "      <td>1898|年|に|ジョン・デュワー|の|息子|たち|によって|設立|する|れる|た|アバフェ...</td>\n",
       "      <td>（|テイスティングノート|）|\\n|香り|：|オレンジトフィー|や|ナッツ|\\n|味わい|：...</td>\n",
       "      <td>2</td>\n",
       "      <td>2</td>\n",
       "      <td>4</td>\n",
       "      <td>2</td>\n",
       "      <td>2</td>\n",
       "      <td>2</td>\n",
       "    </tr>\n",
       "    <tr>\n",
       "      <th>1</th>\n",
       "      <td>2</td>\n",
       "      <td>Aberlour</td>\n",
       "      <td></td>\n",
       "      <td>厳選|する|た|シェリー|樽|と|バー|ボン|樽|の|2|種類|の|樽|を|使う|て|熟成|...</td>\n",
       "      <td>3</td>\n",
       "      <td>1</td>\n",
       "      <td>5</td>\n",
       "      <td>2</td>\n",
       "      <td>3</td>\n",
       "      <td>2</td>\n",
       "    </tr>\n",
       "    <tr>\n",
       "      <th>2</th>\n",
       "      <td>3</td>\n",
       "      <td>AnCnoc</td>\n",
       "      <td></td>\n",
       "      <td></td>\n",
       "      <td>1</td>\n",
       "      <td>2</td>\n",
       "      <td>4</td>\n",
       "      <td>2</td>\n",
       "      <td>3</td>\n",
       "      <td>0</td>\n",
       "    </tr>\n",
       "    <tr>\n",
       "      <th>3</th>\n",
       "      <td>4</td>\n",
       "      <td>Ardbeg</td>\n",
       "      <td></td>\n",
       "      <td></td>\n",
       "      <td>4</td>\n",
       "      <td>4</td>\n",
       "      <td>3</td>\n",
       "      <td>0</td>\n",
       "      <td>1</td>\n",
       "      <td>0</td>\n",
       "    </tr>\n",
       "    <tr>\n",
       "      <th>4</th>\n",
       "      <td>5</td>\n",
       "      <td>Ardmore</td>\n",
       "      <td></td>\n",
       "      <td></td>\n",
       "      <td>2</td>\n",
       "      <td>2</td>\n",
       "      <td>5</td>\n",
       "      <td>1</td>\n",
       "      <td>1</td>\n",
       "      <td>1</td>\n",
       "    </tr>\n",
       "  </tbody>\n",
       "</table>\n",
       "</div>"
      ],
      "text/plain": [
       "   RowID       Name                                            Comment  \\\n",
       "0      1  Aberfeldy  1898|年|に|ジョン・デュワー|の|息子|たち|によって|設立|する|れる|た|アバフェ...   \n",
       "1      2   Aberlour                                                      \n",
       "2      3     AnCnoc                                                      \n",
       "3      4     Ardbeg                                                      \n",
       "4      5    Ardmore                                                      \n",
       "\n",
       "                                                Note  Body  Smoky  Woody  \\\n",
       "0  （|テイスティングノート|）|\\n|香り|：|オレンジトフィー|や|ナッツ|\\n|味わい|：...     2      2      4   \n",
       "1  厳選|する|た|シェリー|樽|と|バー|ボン|樽|の|2|種類|の|樽|を|使う|て|熟成|...     3      1      5   \n",
       "2                                                        1      2      4   \n",
       "3                                                        4      4      3   \n",
       "4                                                        2      2      5   \n",
       "\n",
       "   Floral  Fruity  Winey  \n",
       "0       2       2      2  \n",
       "1       2       3      2  \n",
       "2       2       3      0  \n",
       "3       0       1      0  \n",
       "4       1       1      1  "
      ]
     },
     "execution_count": 30,
     "metadata": {},
     "output_type": "execute_result"
    }
   ],
   "source": [
    "df_converted.head()"
   ]
  },
  {
   "cell_type": "code",
   "execution_count": 31,
   "metadata": {},
   "outputs": [],
   "source": [
    "def convert_int_to_string(number):\n",
    "    number_string_list = ['zeros', 'one', 'two', 'three', 'four', 'five', 'six']\n",
    "    \n",
    "    return number_string_list[number]"
   ]
  },
  {
   "cell_type": "code",
   "execution_count": 32,
   "metadata": {},
   "outputs": [],
   "source": [
    "columns = ['Body', 'Smoky', 'Woody', 'Floral', 'Fruity', 'Winey']\n",
    "df_converted_new = df_converted.copy(deep=True)\n",
    "\n",
    "for col in columns:\n",
    "    df_converted_new[col] = df_converted[col].apply(convert_int_to_string)"
   ]
  },
  {
   "cell_type": "code",
   "execution_count": 33,
   "metadata": {},
   "outputs": [],
   "source": [
    "flavour_keywords = []\n",
    "\n",
    "df_flavour = pd.DataFrame(df_converted_new[columns])"
   ]
  },
  {
   "cell_type": "code",
   "execution_count": 34,
   "metadata": {},
   "outputs": [],
   "source": [
    "for index, row in df_flavour.iterrows():\n",
    "    flavour_keywords.append(' '.join(list(row)))"
   ]
  },
  {
   "cell_type": "code",
   "execution_count": 35,
   "metadata": {},
   "outputs": [],
   "source": [
    "flavour_matrix = df_converted.as_matrix()[:, -6:]"
   ]
  },
  {
   "cell_type": "code",
   "execution_count": 36,
   "metadata": {},
   "outputs": [
    {
     "data": {
      "text/plain": [
       "(86, 6)"
      ]
     },
     "execution_count": 36,
     "metadata": {},
     "output_type": "execute_result"
    }
   ],
   "source": [
    "flavour_matrix.shape"
   ]
  },
  {
   "cell_type": "code",
   "execution_count": 37,
   "metadata": {},
   "outputs": [
    {
     "name": "stderr",
     "output_type": "stream",
     "text": [
      "[nltk_data] Downloading package stopwords to\n",
      "[nltk_data]     /Users/datnguyen/nltk_data...\n",
      "[nltk_data]   Package stopwords is already up-to-date!\n"
     ]
    }
   ],
   "source": [
    "import ssl\n",
    "\n",
    "ssl._create_default_https_context = ssl._create_unverified_context\n",
    "\n",
    "from sklearn.feature_extraction.text import TfidfTransformer, TfidfVectorizer, CountVectorizer\n",
    "import nltk\n",
    "nltk.download('stopwords')\n",
    "\n",
    "from nltk.corpus import stopwords"
   ]
  },
  {
   "cell_type": "code",
   "execution_count": 38,
   "metadata": {},
   "outputs": [],
   "source": [
    "tfidf = TfidfVectorizer()"
   ]
  },
  {
   "cell_type": "code",
   "execution_count": 39,
   "metadata": {
    "scrolled": true
   },
   "outputs": [],
   "source": [
    "X = tfidf.fit_transform(flavour_keywords)"
   ]
  },
  {
   "cell_type": "code",
   "execution_count": 40,
   "metadata": {},
   "outputs": [],
   "source": [
    "from sklearn.metrics.pairwise import cosine_similarity"
   ]
  },
  {
   "cell_type": "code",
   "execution_count": 41,
   "metadata": {},
   "outputs": [],
   "source": [
    "cosine_similarity = cosine_similarity(X, X)"
   ]
  },
  {
   "cell_type": "code",
   "execution_count": 42,
   "metadata": {},
   "outputs": [
    {
     "data": {
      "text/plain": [
       "array([[1.        , 0.37300765, 0.69673648, ..., 0.23088114, 0.21832484,\n",
       "        0.51123128],\n",
       "       [0.37300765, 1.        , 0.49032752, ..., 0.46357802, 0.38223423,\n",
       "        0.55678519],\n",
       "       [0.69673648, 0.49032752, 1.        , ..., 0.68558424, 0.74074358,\n",
       "        0.81862125],\n",
       "       ...,\n",
       "       [0.23088114, 0.46357802, 0.68558424, ..., 1.        , 0.89026279,\n",
       "        0.93068877],\n",
       "       [0.21832484, 0.38223423, 0.74074358, ..., 0.89026279, 1.        ,\n",
       "        0.89572417],\n",
       "       [0.51123128, 0.55678519, 0.81862125, ..., 0.93068877, 0.89572417,\n",
       "        1.        ]])"
      ]
     },
     "execution_count": 42,
     "metadata": {},
     "output_type": "execute_result"
    }
   ],
   "source": [
    "cosine_similarity"
   ]
  },
  {
   "cell_type": "code",
   "execution_count": 43,
   "metadata": {},
   "outputs": [],
   "source": [
    "def get_top_liquor(liquor_id):\n",
    "    index = df_converted[df_converted['RowID'] == liquor_id].index[0]\n",
    "    list_similarities = pd.Series(cosine_similarity[index])\n",
    "    similarities_indices = list_similarities.sort_values(ascending=False)\n",
    "    print(similarities_indices)\n",
    "    top_10_similarities = similarities_indices.iloc[:5].index\n",
    "    print(top_10_similarities)\n",
    "    list_liquor = []\n",
    "    \n",
    "    for i in top_10_similarities:\n",
    "        list_liquor.append(df_converted.iloc[i][columns].tolist())\n",
    "        \n",
    "    return list_liquor"
   ]
  },
  {
   "cell_type": "code",
   "execution_count": 44,
   "metadata": {},
   "outputs": [],
   "source": [
    "from random import randint\n",
    "\n",
    "liquor_id = randint(1, df_converted.shape[0])"
   ]
  },
  {
   "cell_type": "code",
   "execution_count": 45,
   "metadata": {},
   "outputs": [
    {
     "name": "stdout",
     "output_type": "stream",
     "text": [
      "71    1.000000\n",
      "52    1.000000\n",
      "7     1.000000\n",
      "19    1.000000\n",
      "73    1.000000\n",
      "        ...   \n",
      "1     0.401629\n",
      "61    0.349794\n",
      "77    0.333076\n",
      "23    0.304928\n",
      "6     0.147450\n",
      "Length: 86, dtype: float64\n",
      "Int64Index([71, 52, 7, 19, 73], dtype='int64')\n"
     ]
    }
   ],
   "source": [
    "results = get_top_liquor(liquor_id)"
   ]
  },
  {
   "cell_type": "code",
   "execution_count": 46,
   "metadata": {},
   "outputs": [
    {
     "data": {
      "text/plain": [
       "[[2, 1, 4, 2, 2, 1],\n",
       " [2, 1, 4, 2, 1, 2],\n",
       " [2, 1, 4, 1, 2, 2],\n",
       " [1, 2, 4, 2, 2, 1],\n",
       " [2, 1, 4, 2, 2, 1]]"
      ]
     },
     "execution_count": 46,
     "metadata": {},
     "output_type": "execute_result"
    }
   ],
   "source": [
    "results"
   ]
  },
  {
   "cell_type": "code",
   "execution_count": 47,
   "metadata": {},
   "outputs": [
    {
     "data": {
      "text/plain": [
       "array([1, 1, 3, 3, 2, 1])"
      ]
     },
     "execution_count": 47,
     "metadata": {},
     "output_type": "execute_result"
    }
   ],
   "source": [
    "np.array(df_converted.iloc[liquor_id][columns].tolist())"
   ]
  },
  {
   "cell_type": "markdown",
   "metadata": {},
   "source": [
    "## Evaluation results"
   ]
  },
  {
   "cell_type": "code",
   "execution_count": 103,
   "metadata": {},
   "outputs": [],
   "source": [
    "import math\n",
    "\n",
    "def evaluation(input_vector, results):\n",
    "    mse = 0\n",
    "        \n",
    "    for i in range(len(results)):\n",
    "        redudant = np.array(results[i]) - np.array(input_vector)\n",
    "        mse += (redudant*redudant).sum()\n",
    "    \n",
    "    print(mse)\n",
    "    return math.sqrt(mse) / len(results)"
   ]
  },
  {
   "cell_type": "code",
   "execution_count": 104,
   "metadata": {},
   "outputs": [
    {
     "name": "stdout",
     "output_type": "stream",
     "text": [
      "60\n",
      "1.5491933384829668\n"
     ]
    }
   ],
   "source": [
    "print(evaluation(df_converted.iloc[liquor_id][columns].tolist(), results))"
   ]
  },
  {
   "cell_type": "code",
   "execution_count": null,
   "metadata": {},
   "outputs": [],
   "source": []
  }
 ],
 "metadata": {
  "kernelspec": {
   "display_name": "Python 3",
   "language": "python",
   "name": "python3"
  },
  "language_info": {
   "codemirror_mode": {
    "name": "ipython",
    "version": 3
   },
   "file_extension": ".py",
   "mimetype": "text/x-python",
   "name": "python",
   "nbconvert_exporter": "python",
   "pygments_lexer": "ipython3",
   "version": "3.6.8"
  }
 },
 "nbformat": 4,
 "nbformat_minor": 4
}
