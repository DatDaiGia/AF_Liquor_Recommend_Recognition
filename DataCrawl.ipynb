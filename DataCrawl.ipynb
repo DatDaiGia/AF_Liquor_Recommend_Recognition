{
 "cells": [
  {
   "cell_type": "code",
   "execution_count": 7,
   "metadata": {},
   "outputs": [],
   "source": [
    "import urllib\n",
    "import json\n",
    "from pprint import pprint\n",
    "\n",
    "import ssl\n",
    "ssl._create_default_https_context = ssl._create_unverified_context\n",
    "\n",
    "from tqdm import tqdm"
   ]
  },
  {
   "cell_type": "code",
   "execution_count": 2,
   "metadata": {},
   "outputs": [
    {
     "name": "stdout",
     "output_type": "stream",
     "text": [
      "https://sakenowa.com/api/v2/brands/ranking?areaId=1&count=50\n"
     ]
    },
    {
     "name": "stderr",
     "output_type": "stream",
     "text": [
      "100%|██████████| 18/18 [00:00<00:00, 12145.67it/s]\n"
     ]
    },
    {
     "name": "stdout",
     "output_type": "stream",
     "text": [
      "https://sakenowa.com/api/v2/brands/ranking?areaId=2&count=50\n"
     ]
    },
    {
     "name": "stderr",
     "output_type": "stream",
     "text": [
      "100%|██████████| 20/20 [00:00<00:00, 12987.47it/s]\n"
     ]
    },
    {
     "name": "stdout",
     "output_type": "stream",
     "text": [
      "https://sakenowa.com/api/v2/brands/ranking?areaId=3&count=50\n"
     ]
    },
    {
     "name": "stderr",
     "output_type": "stream",
     "text": [
      "100%|██████████| 27/27 [00:00<00:00, 17014.15it/s]\n"
     ]
    },
    {
     "name": "stdout",
     "output_type": "stream",
     "text": [
      "https://sakenowa.com/api/v2/brands/ranking?areaId=4&count=50\n"
     ]
    },
    {
     "name": "stderr",
     "output_type": "stream",
     "text": [
      "100%|██████████| 40/40 [00:00<00:00, 16293.30it/s]\n"
     ]
    },
    {
     "name": "stdout",
     "output_type": "stream",
     "text": [
      "https://sakenowa.com/api/v2/brands/ranking?areaId=5&count=50\n"
     ]
    },
    {
     "name": "stderr",
     "output_type": "stream",
     "text": [
      "100%|██████████| 48/48 [00:00<00:00, 16117.73it/s]\n"
     ]
    },
    {
     "name": "stdout",
     "output_type": "stream",
     "text": [
      "https://sakenowa.com/api/v2/brands/ranking?areaId=6&count=50\n"
     ]
    },
    {
     "name": "stderr",
     "output_type": "stream",
     "text": [
      "100%|██████████| 50/50 [00:00<00:00, 16259.51it/s]\n"
     ]
    },
    {
     "name": "stdout",
     "output_type": "stream",
     "text": [
      "https://sakenowa.com/api/v2/brands/ranking?areaId=7&count=50\n"
     ]
    },
    {
     "name": "stderr",
     "output_type": "stream",
     "text": [
      "100%|██████████| 50/50 [00:00<00:00, 15788.24it/s]\n"
     ]
    },
    {
     "name": "stdout",
     "output_type": "stream",
     "text": [
      "https://sakenowa.com/api/v2/brands/ranking?areaId=8&count=50\n"
     ]
    },
    {
     "name": "stderr",
     "output_type": "stream",
     "text": [
      "100%|██████████| 19/19 [00:00<00:00, 15768.06it/s]\n"
     ]
    },
    {
     "name": "stdout",
     "output_type": "stream",
     "text": [
      "https://sakenowa.com/api/v2/brands/ranking?areaId=9&count=50\n"
     ]
    },
    {
     "name": "stderr",
     "output_type": "stream",
     "text": [
      "100%|██████████| 29/29 [00:00<00:00, 13302.15it/s]\n"
     ]
    },
    {
     "name": "stdout",
     "output_type": "stream",
     "text": [
      "https://sakenowa.com/api/v2/brands/ranking?areaId=10&count=50\n"
     ]
    },
    {
     "name": "stderr",
     "output_type": "stream",
     "text": [
      "100%|██████████| 22/22 [00:00<00:00, 8607.71it/s]\n"
     ]
    },
    {
     "name": "stdout",
     "output_type": "stream",
     "text": [
      "https://sakenowa.com/api/v2/brands/ranking?areaId=11&count=50\n"
     ]
    },
    {
     "name": "stderr",
     "output_type": "stream",
     "text": [
      "100%|██████████| 19/19 [00:00<00:00, 11956.76it/s]\n"
     ]
    },
    {
     "name": "stdout",
     "output_type": "stream",
     "text": [
      "https://sakenowa.com/api/v2/brands/ranking?areaId=12&count=50\n"
     ]
    },
    {
     "name": "stderr",
     "output_type": "stream",
     "text": [
      "100%|██████████| 22/22 [00:00<00:00, 15637.13it/s]\n",
      "100%|██████████| 8/8 [00:00<00:00, 12676.40it/s]\n"
     ]
    },
    {
     "name": "stdout",
     "output_type": "stream",
     "text": [
      "https://sakenowa.com/api/v2/brands/ranking?areaId=13&count=50\n",
      "https://sakenowa.com/api/v2/brands/ranking?areaId=14&count=50\n"
     ]
    },
    {
     "name": "stderr",
     "output_type": "stream",
     "text": [
      "100%|██████████| 16/16 [00:00<00:00, 11626.62it/s]\n"
     ]
    },
    {
     "name": "stdout",
     "output_type": "stream",
     "text": [
      "https://sakenowa.com/api/v2/brands/ranking?areaId=15&count=50\n"
     ]
    },
    {
     "name": "stderr",
     "output_type": "stream",
     "text": [
      "100%|██████████| 50/50 [00:00<00:00, 14797.85it/s]\n"
     ]
    },
    {
     "name": "stdout",
     "output_type": "stream",
     "text": [
      "https://sakenowa.com/api/v2/brands/ranking?areaId=16&count=50\n"
     ]
    },
    {
     "name": "stderr",
     "output_type": "stream",
     "text": [
      "100%|██████████| 18/18 [00:00<00:00, 9260.08it/s]\n"
     ]
    },
    {
     "name": "stdout",
     "output_type": "stream",
     "text": [
      "https://sakenowa.com/api/v2/brands/ranking?areaId=17&count=50\n"
     ]
    },
    {
     "name": "stderr",
     "output_type": "stream",
     "text": [
      "100%|██████████| 38/38 [00:00<00:00, 18209.02it/s]\n"
     ]
    },
    {
     "name": "stdout",
     "output_type": "stream",
     "text": [
      "https://sakenowa.com/api/v2/brands/ranking?areaId=18&count=50\n"
     ]
    },
    {
     "name": "stderr",
     "output_type": "stream",
     "text": [
      "100%|██████████| 23/23 [00:00<00:00, 15244.78it/s]\n"
     ]
    },
    {
     "name": "stdout",
     "output_type": "stream",
     "text": [
      "https://sakenowa.com/api/v2/brands/ranking?areaId=19&count=50\n"
     ]
    },
    {
     "name": "stderr",
     "output_type": "stream",
     "text": [
      "100%|██████████| 6/6 [00:00<00:00, 5494.72it/s]\n"
     ]
    },
    {
     "name": "stdout",
     "output_type": "stream",
     "text": [
      "https://sakenowa.com/api/v2/brands/ranking?areaId=20&count=50\n"
     ]
    },
    {
     "name": "stderr",
     "output_type": "stream",
     "text": [
      "100%|██████████| 50/50 [00:00<00:00, 15284.25it/s]\n"
     ]
    },
    {
     "name": "stdout",
     "output_type": "stream",
     "text": [
      "https://sakenowa.com/api/v2/brands/ranking?areaId=21&count=50\n"
     ]
    },
    {
     "name": "stderr",
     "output_type": "stream",
     "text": [
      "100%|██████████| 34/34 [00:00<00:00, 15098.61it/s]\n"
     ]
    },
    {
     "name": "stdout",
     "output_type": "stream",
     "text": [
      "https://sakenowa.com/api/v2/brands/ranking?areaId=22&count=50\n"
     ]
    },
    {
     "name": "stderr",
     "output_type": "stream",
     "text": [
      "100%|██████████| 23/23 [00:00<00:00, 12300.01it/s]\n"
     ]
    },
    {
     "name": "stdout",
     "output_type": "stream",
     "text": [
      "https://sakenowa.com/api/v2/brands/ranking?areaId=23&count=50\n"
     ]
    },
    {
     "name": "stderr",
     "output_type": "stream",
     "text": [
      "100%|██████████| 21/21 [00:00<00:00, 16732.60it/s]\n"
     ]
    },
    {
     "name": "stdout",
     "output_type": "stream",
     "text": [
      "https://sakenowa.com/api/v2/brands/ranking?areaId=24&count=50\n"
     ]
    },
    {
     "name": "stderr",
     "output_type": "stream",
     "text": [
      "100%|██████████| 23/23 [00:00<00:00, 12100.98it/s]\n"
     ]
    },
    {
     "name": "stdout",
     "output_type": "stream",
     "text": [
      "https://sakenowa.com/api/v2/brands/ranking?areaId=25&count=50\n"
     ]
    },
    {
     "name": "stderr",
     "output_type": "stream",
     "text": [
      "100%|██████████| 29/29 [00:00<00:00, 13296.33it/s]\n"
     ]
    },
    {
     "name": "stdout",
     "output_type": "stream",
     "text": [
      "https://sakenowa.com/api/v2/brands/ranking?areaId=26&count=50\n"
     ]
    },
    {
     "name": "stderr",
     "output_type": "stream",
     "text": [
      "100%|██████████| 38/38 [00:00<00:00, 16392.43it/s]\n"
     ]
    },
    {
     "name": "stdout",
     "output_type": "stream",
     "text": [
      "https://sakenowa.com/api/v2/brands/ranking?areaId=27&count=50\n"
     ]
    },
    {
     "name": "stderr",
     "output_type": "stream",
     "text": [
      "100%|██████████| 7/7 [00:00<00:00, 8589.86it/s]\n"
     ]
    },
    {
     "name": "stdout",
     "output_type": "stream",
     "text": [
      "https://sakenowa.com/api/v2/brands/ranking?areaId=28&count=50\n"
     ]
    },
    {
     "name": "stderr",
     "output_type": "stream",
     "text": [
      "100%|██████████| 44/44 [00:00<00:00, 12564.64it/s]\n"
     ]
    },
    {
     "name": "stdout",
     "output_type": "stream",
     "text": [
      "https://sakenowa.com/api/v2/brands/ranking?areaId=29&count=50\n"
     ]
    },
    {
     "name": "stderr",
     "output_type": "stream",
     "text": [
      "100%|██████████| 24/24 [00:00<00:00, 17070.26it/s]\n"
     ]
    },
    {
     "name": "stdout",
     "output_type": "stream",
     "text": [
      "https://sakenowa.com/api/v2/brands/ranking?areaId=30&count=50\n"
     ]
    },
    {
     "name": "stderr",
     "output_type": "stream",
     "text": [
      "100%|██████████| 14/14 [00:00<00:00, 14463.12it/s]\n"
     ]
    },
    {
     "name": "stdout",
     "output_type": "stream",
     "text": [
      "https://sakenowa.com/api/v2/brands/ranking?areaId=31&count=50\n"
     ]
    },
    {
     "name": "stderr",
     "output_type": "stream",
     "text": [
      "100%|██████████| 10/10 [00:00<00:00, 10928.36it/s]\n"
     ]
    },
    {
     "name": "stdout",
     "output_type": "stream",
     "text": [
      "https://sakenowa.com/api/v2/brands/ranking?areaId=32&count=50\n"
     ]
    },
    {
     "name": "stderr",
     "output_type": "stream",
     "text": [
      "100%|██████████| 26/26 [00:00<00:00, 14720.83it/s]\n"
     ]
    },
    {
     "name": "stdout",
     "output_type": "stream",
     "text": [
      "https://sakenowa.com/api/v2/brands/ranking?areaId=33&count=50\n"
     ]
    },
    {
     "name": "stderr",
     "output_type": "stream",
     "text": [
      "100%|██████████| 24/24 [00:00<00:00, 19418.07it/s]\n"
     ]
    },
    {
     "name": "stdout",
     "output_type": "stream",
     "text": [
      "https://sakenowa.com/api/v2/brands/ranking?areaId=34&count=50\n"
     ]
    },
    {
     "name": "stderr",
     "output_type": "stream",
     "text": [
      "100%|██████████| 36/36 [00:00<00:00, 15600.26it/s]\n"
     ]
    },
    {
     "name": "stdout",
     "output_type": "stream",
     "text": [
      "https://sakenowa.com/api/v2/brands/ranking?areaId=35&count=50\n"
     ]
    },
    {
     "name": "stderr",
     "output_type": "stream",
     "text": [
      "100%|██████████| 24/24 [00:00<00:00, 13355.88it/s]\n",
      "100%|██████████| 5/5 [00:00<00:00, 5417.60it/s]\n"
     ]
    },
    {
     "name": "stdout",
     "output_type": "stream",
     "text": [
      "https://sakenowa.com/api/v2/brands/ranking?areaId=36&count=50\n",
      "https://sakenowa.com/api/v2/brands/ranking?areaId=37&count=50\n"
     ]
    },
    {
     "name": "stderr",
     "output_type": "stream",
     "text": [
      "100%|██████████| 6/6 [00:00<00:00, 7663.16it/s]\n"
     ]
    },
    {
     "name": "stdout",
     "output_type": "stream",
     "text": [
      "https://sakenowa.com/api/v2/brands/ranking?areaId=38&count=50\n"
     ]
    },
    {
     "name": "stderr",
     "output_type": "stream",
     "text": [
      "100%|██████████| 17/17 [00:00<00:00, 18217.47it/s]\n"
     ]
    },
    {
     "name": "stdout",
     "output_type": "stream",
     "text": [
      "https://sakenowa.com/api/v2/brands/ranking?areaId=39&count=50\n"
     ]
    },
    {
     "name": "stderr",
     "output_type": "stream",
     "text": [
      "100%|██████████| 18/18 [00:00<00:00, 13605.60it/s]\n"
     ]
    },
    {
     "name": "stdout",
     "output_type": "stream",
     "text": [
      "https://sakenowa.com/api/v2/brands/ranking?areaId=40&count=50\n"
     ]
    },
    {
     "name": "stderr",
     "output_type": "stream",
     "text": [
      "100%|██████████| 31/31 [00:00<00:00, 16956.63it/s]\n"
     ]
    },
    {
     "name": "stdout",
     "output_type": "stream",
     "text": [
      "https://sakenowa.com/api/v2/brands/ranking?areaId=41&count=50\n"
     ]
    },
    {
     "name": "stderr",
     "output_type": "stream",
     "text": [
      "100%|██████████| 20/20 [00:00<00:00, 13423.92it/s]\n",
      "100%|██████████| 5/5 [00:00<00:00, 6002.15it/s]\n"
     ]
    },
    {
     "name": "stdout",
     "output_type": "stream",
     "text": [
      "https://sakenowa.com/api/v2/brands/ranking?areaId=42&count=50\n",
      "https://sakenowa.com/api/v2/brands/ranking?areaId=43&count=50\n"
     ]
    },
    {
     "name": "stderr",
     "output_type": "stream",
     "text": [
      "100%|██████████| 9/9 [00:00<00:00, 8728.03it/s]\n",
      "100%|██████████| 8/8 [00:00<00:00, 10485.76it/s]\n"
     ]
    },
    {
     "name": "stdout",
     "output_type": "stream",
     "text": [
      "https://sakenowa.com/api/v2/brands/ranking?areaId=44&count=50\n",
      "https://sakenowa.com/api/v2/brands/ranking?areaId=45&count=50\n"
     ]
    },
    {
     "name": "stderr",
     "output_type": "stream",
     "text": [
      "100%|██████████| 2/2 [00:00<00:00, 2207.53it/s]\n",
      "100%|██████████| 1/1 [00:00<00:00, 1828.38it/s]\n",
      "0it [00:00, ?it/s]"
     ]
    },
    {
     "name": "stdout",
     "output_type": "stream",
     "text": [
      "https://sakenowa.com/api/v2/brands/ranking?areaId=46&count=50\n",
      "https://sakenowa.com/api/v2/brands/ranking?areaId=47&count=50\n"
     ]
    },
    {
     "name": "stderr",
     "output_type": "stream",
     "text": [
      "\n"
     ]
    }
   ],
   "source": [
    "import csv\n",
    "\n",
    "area = 1 \n",
    "count = 50\n",
    "\n",
    "with open('liquor_data.csv', mode='w', encoding='utf-8') as csv_file:\n",
    "    fieldnames = ['name', 'intl_name', 'brand_name', 'brand_intl_name', 'year_month', 'rank', \n",
    "                  'score', 'f1', 'f2', 'f3', 'f4', 'f5', 'f6',\n",
    "                  'flavour_tags', 'checkin_count', 'pictures', 'similar_brands', 'id']\n",
    "    writer = csv.DictWriter(csv_file, fieldnames=fieldnames, delimiter=',', \n",
    "                            quotechar='\"', quoting=csv.QUOTE_MINIMAL)\n",
    "    writer.writeheader()\n",
    "    \n",
    "    while area <= 47:\n",
    "        url = 'https://sakenowa.com/api/v2/brands/ranking?areaId={}&count={}'.format(area, count)\n",
    "        print(url)\n",
    "        response = urllib.request.urlopen(url)\n",
    "        text = response.read()\n",
    "        data = json.loads(text)['ranking']\n",
    "\n",
    "        for i in tqdm(range(len(data))):\n",
    "            item = data[i]\n",
    "            year_month = str(item['yearMonth'])\n",
    "            score = float(item['score'])\n",
    "            ranking = int(item['rank'])\n",
    "            brand_summary = item['brandSummary']\n",
    "            id_ = int(brand_summary['brand']['id'])\n",
    "            name = str(brand_summary['brand']['name'])\n",
    "            pictures = [str(i['url']) for i in brand_summary['pictures']]            \n",
    "            checkin_count = int(brand_summary['statistics']['checkinCount'])\n",
    "            similar_brands = [str(item['brand']['name']) for item in brand_summary['similarBrands']]\n",
    "            \n",
    "            intl_name = None\n",
    "            if 'intlName' in brand_summary['brand'].keys():\n",
    "                intl_name = str(brand_summary['brand']['intlName'])\n",
    "            \n",
    "            brand_area_name = None\n",
    "            brand_area_intl_name = None\n",
    "            if 'area' in brand_summary['brand']['brewery'].keys():\n",
    "                brand_area = brand_summary['brand']['brewery']['area']\n",
    "                brand_area_name = str(brand_area['name'])\n",
    "                brand_area_intl_name = str(brand_area['intlName'])\n",
    "                \n",
    "            f1 = None\n",
    "            f2 = None\n",
    "            f3 = None\n",
    "            f4 = None\n",
    "            f5 = None\n",
    "            f6 = None\n",
    "            if 'simpleFlavorFeature' in brand_summary.keys():\n",
    "                flavour_feature = brand_summary['simpleFlavorFeature']\n",
    "                f1 = flavour_feature['f1']\n",
    "                f2 = flavour_feature['f2']\n",
    "                f3 = flavour_feature['f3']\n",
    "                f4 = flavour_feature['f4']\n",
    "                f5 = flavour_feature['f5']\n",
    "                f6 = flavour_feature['f6']\n",
    "\n",
    "            tags = ''\n",
    "            flavour_tags = brand_summary['flavorTags']\n",
    "            for tag_item in flavour_tags:\n",
    "                tags += '|{}'.format(tag_item['tag'])\n",
    "\n",
    "            writer.writerow({'name': name, 'intl_name': intl_name,\n",
    "                             'brand_name': brand_area_name, \n",
    "                             'brand_intl_name': brand_area_intl_name,\n",
    "                             'year_month': year_month, 'rank': ranking,\n",
    "                             'score': score, 'f1': f1, 'f2':f2, 'f3': f3,\n",
    "                             'f4':f4, 'f5': f5, 'f6': f6, \n",
    "                             'flavour_tags': tags, 'checkin_count': checkin_count,\n",
    "                             'pictures': '|'.join(pictures),\n",
    "                             'similar_brands': '|'.join(similar_brands),\n",
    "                             'id': id_})\n",
    "\n",
    "        area += 1"
   ]
  },
  {
   "cell_type": "code",
   "execution_count": null,
   "metadata": {},
   "outputs": [],
   "source": []
  },
  {
   "cell_type": "code",
   "execution_count": 8,
   "metadata": {},
   "outputs": [],
   "source": [
    "import pandas as pd"
   ]
  },
  {
   "cell_type": "code",
   "execution_count": 9,
   "metadata": {},
   "outputs": [],
   "source": [
    "df_initial = pd.read_csv('liquor_data.csv', encoding='utf-8')"
   ]
  },
  {
   "cell_type": "code",
   "execution_count": 13,
   "metadata": {
    "scrolled": true
   },
   "outputs": [
    {
     "data": {
      "text/html": [
       "<div>\n",
       "<style scoped>\n",
       "    .dataframe tbody tr th:only-of-type {\n",
       "        vertical-align: middle;\n",
       "    }\n",
       "\n",
       "    .dataframe tbody tr th {\n",
       "        vertical-align: top;\n",
       "    }\n",
       "\n",
       "    .dataframe thead th {\n",
       "        text-align: right;\n",
       "    }\n",
       "</style>\n",
       "<table border=\"1\" class=\"dataframe\">\n",
       "  <thead>\n",
       "    <tr style=\"text-align: right;\">\n",
       "      <th></th>\n",
       "      <th>name</th>\n",
       "      <th>intl_name</th>\n",
       "      <th>brand_name</th>\n",
       "      <th>brand_intl_name</th>\n",
       "      <th>year_month</th>\n",
       "      <th>rank</th>\n",
       "      <th>score</th>\n",
       "      <th>f1</th>\n",
       "      <th>f2</th>\n",
       "      <th>f3</th>\n",
       "      <th>f4</th>\n",
       "      <th>f5</th>\n",
       "      <th>f6</th>\n",
       "      <th>flavour_tags</th>\n",
       "      <th>checkin_count</th>\n",
       "      <th>pictures</th>\n",
       "      <th>similar_brands</th>\n",
       "      <th>id</th>\n",
       "    </tr>\n",
       "  </thead>\n",
       "  <tbody>\n",
       "  </tbody>\n",
       "</table>\n",
       "</div>"
      ],
      "text/plain": [
       "Empty DataFrame\n",
       "Columns: [name, intl_name, brand_name, brand_intl_name, year_month, rank, score, f1, f2, f3, f4, f5, f6, flavour_tags, checkin_count, pictures, similar_brands, id]\n",
       "Index: []"
      ]
     },
     "execution_count": 13,
     "metadata": {},
     "output_type": "execute_result"
    }
   ],
   "source": [
    "df_initial[df_initial.name.values == \"悦凱\"]"
   ]
  },
  {
   "cell_type": "code",
   "execution_count": null,
   "metadata": {},
   "outputs": [],
   "source": []
  },
  {
   "cell_type": "code",
   "execution_count": null,
   "metadata": {},
   "outputs": [],
   "source": []
  }
 ],
 "metadata": {
  "kernelspec": {
   "display_name": "Python 3",
   "language": "python",
   "name": "python3"
  },
  "language_info": {
   "codemirror_mode": {
    "name": "ipython",
    "version": 3
   },
   "file_extension": ".py",
   "mimetype": "text/x-python",
   "name": "python",
   "nbconvert_exporter": "python",
   "pygments_lexer": "ipython3",
   "version": "3.6.8"
  }
 },
 "nbformat": 4,
 "nbformat_minor": 4
}
